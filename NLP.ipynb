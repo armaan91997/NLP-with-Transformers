{
  "nbformat": 4,
  "nbformat_minor": 0,
  "metadata": {
    "colab": {
      "provenance": [],
      "authorship_tag": "ABX9TyOxwKk0swVbEAzCIqP/6Zus",
      "include_colab_link": true
    },
    "kernelspec": {
      "name": "python3",
      "display_name": "Python 3"
    },
    "language_info": {
      "name": "python"
    },
    "widgets": {
      "application/vnd.jupyter.widget-state+json": {
        "7e0f00fbae2b49268a470d465e9cb746": {
          "model_module": "@jupyter-widgets/controls",
          "model_name": "TextareaModel",
          "model_module_version": "1.5.0",
          "state": {
            "_dom_classes": [],
            "_model_module": "@jupyter-widgets/controls",
            "_model_module_version": "1.5.0",
            "_model_name": "TextareaModel",
            "_view_count": null,
            "_view_module": "@jupyter-widgets/controls",
            "_view_module_version": "1.5.0",
            "_view_name": "TextareaView",
            "continuous_update": true,
            "description": "Input:",
            "description_tooltip": null,
            "disabled": false,
            "layout": "IPY_MODEL_b8d22e61e8074ccdb2566a13716773a4",
            "placeholder": "Enter your text here",
            "rows": null,
            "style": "IPY_MODEL_006fcca879f549e2a1d46b649304212c",
            "value": "The cerulean sky stretched endlessly above the rolling hills, dotted with fluffy clouds that meandered lazily across the horizon. A gentle breeze rustled through the tall grass, carrying with it the sweet scent of wildflowers in bloom. In the distance, a lone figure trudged along a winding path, their silhouette barely visible against the setting sun. Nearby, a babbling brook gurgled happily, its crystal-clear waters reflecting the golden hues of twilight. A family of deer emerged from the nearby forest, their ears twitching alertly as they surveyed the peaceful meadow. As night began to fall, the first stars twinkled into existence, promising a tapestry of celestial wonders to come."
          }
        },
        "b8d22e61e8074ccdb2566a13716773a4": {
          "model_module": "@jupyter-widgets/base",
          "model_name": "LayoutModel",
          "model_module_version": "1.2.0",
          "state": {
            "_model_module": "@jupyter-widgets/base",
            "_model_module_version": "1.2.0",
            "_model_name": "LayoutModel",
            "_view_count": null,
            "_view_module": "@jupyter-widgets/base",
            "_view_module_version": "1.2.0",
            "_view_name": "LayoutView",
            "align_content": null,
            "align_items": null,
            "align_self": null,
            "border": null,
            "bottom": null,
            "display": null,
            "flex": null,
            "flex_flow": null,
            "grid_area": null,
            "grid_auto_columns": null,
            "grid_auto_flow": null,
            "grid_auto_rows": null,
            "grid_column": null,
            "grid_gap": null,
            "grid_row": null,
            "grid_template_areas": null,
            "grid_template_columns": null,
            "grid_template_rows": null,
            "height": "200px",
            "justify_content": null,
            "justify_items": null,
            "left": null,
            "margin": null,
            "max_height": null,
            "max_width": null,
            "min_height": null,
            "min_width": null,
            "object_fit": null,
            "object_position": null,
            "order": null,
            "overflow": null,
            "overflow_x": null,
            "overflow_y": null,
            "padding": null,
            "right": null,
            "top": null,
            "visibility": null,
            "width": "100%"
          }
        },
        "006fcca879f549e2a1d46b649304212c": {
          "model_module": "@jupyter-widgets/controls",
          "model_name": "DescriptionStyleModel",
          "model_module_version": "1.5.0",
          "state": {
            "_model_module": "@jupyter-widgets/controls",
            "_model_module_version": "1.5.0",
            "_model_name": "DescriptionStyleModel",
            "_view_count": null,
            "_view_module": "@jupyter-widgets/base",
            "_view_module_version": "1.2.0",
            "_view_name": "StyleView",
            "description_width": ""
          }
        },
        "6abf09b3cd8b4040916150d4ea554f4b": {
          "model_module": "@jupyter-widgets/controls",
          "model_name": "IntTextModel",
          "model_module_version": "1.5.0",
          "state": {
            "_dom_classes": [],
            "_model_module": "@jupyter-widgets/controls",
            "_model_module_version": "1.5.0",
            "_model_name": "IntTextModel",
            "_view_count": null,
            "_view_module": "@jupyter-widgets/controls",
            "_view_module_version": "1.5.0",
            "_view_name": "IntTextView",
            "continuous_update": false,
            "description": "Number of sentences:",
            "description_tooltip": null,
            "disabled": false,
            "layout": "IPY_MODEL_b717b51c7d37450b8143d942d30165e1",
            "step": 1,
            "style": "IPY_MODEL_a3ced524bc154d068ca3152a4b439c81",
            "value": 3
          }
        },
        "b717b51c7d37450b8143d942d30165e1": {
          "model_module": "@jupyter-widgets/base",
          "model_name": "LayoutModel",
          "model_module_version": "1.2.0",
          "state": {
            "_model_module": "@jupyter-widgets/base",
            "_model_module_version": "1.2.0",
            "_model_name": "LayoutModel",
            "_view_count": null,
            "_view_module": "@jupyter-widgets/base",
            "_view_module_version": "1.2.0",
            "_view_name": "LayoutView",
            "align_content": null,
            "align_items": null,
            "align_self": null,
            "border": null,
            "bottom": null,
            "display": null,
            "flex": null,
            "flex_flow": null,
            "grid_area": null,
            "grid_auto_columns": null,
            "grid_auto_flow": null,
            "grid_auto_rows": null,
            "grid_column": null,
            "grid_gap": null,
            "grid_row": null,
            "grid_template_areas": null,
            "grid_template_columns": null,
            "grid_template_rows": null,
            "height": null,
            "justify_content": null,
            "justify_items": null,
            "left": null,
            "margin": null,
            "max_height": null,
            "max_width": null,
            "min_height": null,
            "min_width": null,
            "object_fit": null,
            "object_position": null,
            "order": null,
            "overflow": null,
            "overflow_x": null,
            "overflow_y": null,
            "padding": null,
            "right": null,
            "top": null,
            "visibility": null,
            "width": null
          }
        },
        "a3ced524bc154d068ca3152a4b439c81": {
          "model_module": "@jupyter-widgets/controls",
          "model_name": "DescriptionStyleModel",
          "model_module_version": "1.5.0",
          "state": {
            "_model_module": "@jupyter-widgets/controls",
            "_model_module_version": "1.5.0",
            "_model_name": "DescriptionStyleModel",
            "_view_count": null,
            "_view_module": "@jupyter-widgets/base",
            "_view_module_version": "1.2.0",
            "_view_name": "StyleView",
            "description_width": ""
          }
        },
        "2dc5c5edb73d430fbf7d8dbb3229df67": {
          "model_module": "@jupyter-widgets/controls",
          "model_name": "ButtonModel",
          "model_module_version": "1.5.0",
          "state": {
            "_dom_classes": [],
            "_model_module": "@jupyter-widgets/controls",
            "_model_module_version": "1.5.0",
            "_model_name": "ButtonModel",
            "_view_count": null,
            "_view_module": "@jupyter-widgets/controls",
            "_view_module_version": "1.5.0",
            "_view_name": "ButtonView",
            "button_style": "",
            "description": "Summarize",
            "disabled": false,
            "icon": "",
            "layout": "IPY_MODEL_d8dfd1b0a5f042f585ad40f1412423b5",
            "style": "IPY_MODEL_80239c7646124830a8eabaf28ade08c2",
            "tooltip": ""
          }
        },
        "d8dfd1b0a5f042f585ad40f1412423b5": {
          "model_module": "@jupyter-widgets/base",
          "model_name": "LayoutModel",
          "model_module_version": "1.2.0",
          "state": {
            "_model_module": "@jupyter-widgets/base",
            "_model_module_version": "1.2.0",
            "_model_name": "LayoutModel",
            "_view_count": null,
            "_view_module": "@jupyter-widgets/base",
            "_view_module_version": "1.2.0",
            "_view_name": "LayoutView",
            "align_content": null,
            "align_items": null,
            "align_self": null,
            "border": null,
            "bottom": null,
            "display": null,
            "flex": null,
            "flex_flow": null,
            "grid_area": null,
            "grid_auto_columns": null,
            "grid_auto_flow": null,
            "grid_auto_rows": null,
            "grid_column": null,
            "grid_gap": null,
            "grid_row": null,
            "grid_template_areas": null,
            "grid_template_columns": null,
            "grid_template_rows": null,
            "height": null,
            "justify_content": null,
            "justify_items": null,
            "left": null,
            "margin": null,
            "max_height": null,
            "max_width": null,
            "min_height": null,
            "min_width": null,
            "object_fit": null,
            "object_position": null,
            "order": null,
            "overflow": null,
            "overflow_x": null,
            "overflow_y": null,
            "padding": null,
            "right": null,
            "top": null,
            "visibility": null,
            "width": null
          }
        },
        "80239c7646124830a8eabaf28ade08c2": {
          "model_module": "@jupyter-widgets/controls",
          "model_name": "ButtonStyleModel",
          "model_module_version": "1.5.0",
          "state": {
            "_model_module": "@jupyter-widgets/controls",
            "_model_module_version": "1.5.0",
            "_model_name": "ButtonStyleModel",
            "_view_count": null,
            "_view_module": "@jupyter-widgets/base",
            "_view_module_version": "1.2.0",
            "_view_name": "StyleView",
            "button_color": null,
            "font_weight": ""
          }
        },
        "4a3d3621543a45c09c3e6e51bb4d036d": {
          "model_module": "@jupyter-widgets/controls",
          "model_name": "TextareaModel",
          "model_module_version": "1.5.0",
          "state": {
            "_dom_classes": [],
            "_model_module": "@jupyter-widgets/controls",
            "_model_module_version": "1.5.0",
            "_model_name": "TextareaModel",
            "_view_count": null,
            "_view_module": "@jupyter-widgets/controls",
            "_view_module_version": "1.5.0",
            "_view_name": "TextareaView",
            "continuous_update": true,
            "description": "Output:",
            "description_tooltip": null,
            "disabled": false,
            "layout": "IPY_MODEL_3080e2c3b540465898a7e8eb640fa712",
            "placeholder": "Summary will appear here",
            "rows": null,
            "style": "IPY_MODEL_babc890bface4da191826c1f78a739f2",
            "value": "The cerulean sky stretched endlessly above the rolling hills, dotted with fluffy clouds that meandered lazily across the horizon. A family of deer emerged from the nearby forest, their ears twitching alertly as they surveyed the peaceful meadow. A gentle breeze rustled through the tall grass, carrying with it the sweet scent of wildflowers in bloom."
          }
        },
        "3080e2c3b540465898a7e8eb640fa712": {
          "model_module": "@jupyter-widgets/base",
          "model_name": "LayoutModel",
          "model_module_version": "1.2.0",
          "state": {
            "_model_module": "@jupyter-widgets/base",
            "_model_module_version": "1.2.0",
            "_model_name": "LayoutModel",
            "_view_count": null,
            "_view_module": "@jupyter-widgets/base",
            "_view_module_version": "1.2.0",
            "_view_name": "LayoutView",
            "align_content": null,
            "align_items": null,
            "align_self": null,
            "border": null,
            "bottom": null,
            "display": null,
            "flex": null,
            "flex_flow": null,
            "grid_area": null,
            "grid_auto_columns": null,
            "grid_auto_flow": null,
            "grid_auto_rows": null,
            "grid_column": null,
            "grid_gap": null,
            "grid_row": null,
            "grid_template_areas": null,
            "grid_template_columns": null,
            "grid_template_rows": null,
            "height": "100px",
            "justify_content": null,
            "justify_items": null,
            "left": null,
            "margin": null,
            "max_height": null,
            "max_width": null,
            "min_height": null,
            "min_width": null,
            "object_fit": null,
            "object_position": null,
            "order": null,
            "overflow": null,
            "overflow_x": null,
            "overflow_y": null,
            "padding": null,
            "right": null,
            "top": null,
            "visibility": null,
            "width": "100%"
          }
        },
        "babc890bface4da191826c1f78a739f2": {
          "model_module": "@jupyter-widgets/controls",
          "model_name": "DescriptionStyleModel",
          "model_module_version": "1.5.0",
          "state": {
            "_model_module": "@jupyter-widgets/controls",
            "_model_module_version": "1.5.0",
            "_model_name": "DescriptionStyleModel",
            "_view_count": null,
            "_view_module": "@jupyter-widgets/base",
            "_view_module_version": "1.2.0",
            "_view_name": "StyleView",
            "description_width": ""
          }
        }
      }
    }
  },
  "cells": [
    {
      "cell_type": "markdown",
      "metadata": {
        "id": "view-in-github",
        "colab_type": "text"
      },
      "source": [
        "<a href=\"https://colab.research.google.com/github/snakeyballs/NLP-with-Transformers/blob/main/NLP.ipynb\" target=\"_parent\"><img src=\"https://colab.research.google.com/assets/colab-badge.svg\" alt=\"Open In Colab\"/></a>"
      ]
    },
    {
      "cell_type": "code",
      "execution_count": 1,
      "metadata": {
        "colab": {
          "base_uri": "https://localhost:8080/",
          "height": 407,
          "referenced_widgets": [
            "7e0f00fbae2b49268a470d465e9cb746",
            "b8d22e61e8074ccdb2566a13716773a4",
            "006fcca879f549e2a1d46b649304212c",
            "6abf09b3cd8b4040916150d4ea554f4b",
            "b717b51c7d37450b8143d942d30165e1",
            "a3ced524bc154d068ca3152a4b439c81",
            "2dc5c5edb73d430fbf7d8dbb3229df67",
            "d8dfd1b0a5f042f585ad40f1412423b5",
            "80239c7646124830a8eabaf28ade08c2",
            "4a3d3621543a45c09c3e6e51bb4d036d",
            "3080e2c3b540465898a7e8eb640fa712",
            "babc890bface4da191826c1f78a739f2"
          ]
        },
        "id": "Yf5pMRoR7qyc",
        "outputId": "a122466f-5015-4a28-bc4c-4892ad62dc80"
      },
      "outputs": [
        {
          "output_type": "display_data",
          "data": {
            "text/plain": [
              "Textarea(value='', description='Input:', layout=Layout(height='200px', width='100%'), placeholder='Enter your …"
            ],
            "application/vnd.jupyter.widget-view+json": {
              "version_major": 2,
              "version_minor": 0,
              "model_id": "7e0f00fbae2b49268a470d465e9cb746"
            }
          },
          "metadata": {}
        },
        {
          "output_type": "display_data",
          "data": {
            "text/plain": [
              "IntText(value=3, description='Number of sentences:')"
            ],
            "application/vnd.jupyter.widget-view+json": {
              "version_major": 2,
              "version_minor": 0,
              "model_id": "6abf09b3cd8b4040916150d4ea554f4b"
            }
          },
          "metadata": {}
        },
        {
          "output_type": "display_data",
          "data": {
            "text/plain": [
              "Button(description='Summarize', style=ButtonStyle())"
            ],
            "application/vnd.jupyter.widget-view+json": {
              "version_major": 2,
              "version_minor": 0,
              "model_id": "2dc5c5edb73d430fbf7d8dbb3229df67"
            }
          },
          "metadata": {}
        },
        {
          "output_type": "display_data",
          "data": {
            "text/plain": [
              "Textarea(value='', description='Output:', layout=Layout(height='100px', width='100%'), placeholder='Summary wi…"
            ],
            "application/vnd.jupyter.widget-view+json": {
              "version_major": 2,
              "version_minor": 0,
              "model_id": "4a3d3621543a45c09c3e6e51bb4d036d"
            }
          },
          "metadata": {}
        }
      ],
      "source": [
        "# Remove Tkinter imports\n",
        "# import tkinter as tk\n",
        "# from tkinter import scrolledtext\n",
        "# from tkinter import messagebox\n",
        "# from tkinter import END\n",
        "\n",
        "# Add ipywidgets imports\n",
        "from ipywidgets import widgets, Layout\n",
        "from IPython.display import display\n",
        "\n",
        "# Keep other imports\n",
        "import spacy\n",
        "from spacy.lang.en.stop_words import STOP_WORDS\n",
        "from string import punctuation\n",
        "from collections import Counter\n",
        "from heapq import nlargest\n",
        "\n",
        "# Load spaCy model (do this once, outside the function)\n",
        "nlp = spacy.load('en_core_web_sm')\n",
        "\n",
        "def summarize_text(text, num_sentences):\n",
        "    # Tokenization and removing stopwords\n",
        "    doc = nlp(text)\n",
        "    tokens = [token.text.lower() for token in doc\n",
        "              if not token.is_stop and not token.is_punct and token.text != '\\n']\n",
        "\n",
        "    # Calculating word frequency\n",
        "    word_freq = Counter(tokens)\n",
        "    if not word_freq:\n",
        "        return \"Error: No words found in the text.\"\n",
        "\n",
        "    max_freq = max(word_freq.values())\n",
        "    for word in word_freq.keys():\n",
        "        word_freq[word] = word_freq[word]/max_freq\n",
        "\n",
        "    # Sentence tokenization\n",
        "    sent_token = [sent.text for sent in doc.sents]\n",
        "\n",
        "    sent_score = {}\n",
        "    for sent in sent_token:\n",
        "        for word in sent.split():\n",
        "            if word.lower() in word_freq.keys():\n",
        "                if sent not in sent_score.keys():\n",
        "                    sent_score[sent] = word_freq[word]\n",
        "                else:\n",
        "                    sent_score[sent] += word_freq[word]\n",
        "\n",
        "    # Select top-scoring sentences\n",
        "    summarized_sentences = nlargest(num_sentences, sent_score, key=sent_score.get)\n",
        "    return \" \".join(summarized_sentences)\n",
        "\n",
        "# Create widgets\n",
        "text_input = widgets.Textarea(\n",
        "    value='',\n",
        "    placeholder='Enter your text here',\n",
        "    description='Input:',\n",
        "    layout=Layout(width='100%', height='200px')\n",
        ")\n",
        "\n",
        "num_sentences_input = widgets.IntText(\n",
        "    value=3,\n",
        "    description='Number of sentences:',\n",
        "    disabled=False\n",
        ")\n",
        "\n",
        "summarize_button = widgets.Button(description=\"Summarize\")\n",
        "output = widgets.Textarea(\n",
        "    value='',\n",
        "    placeholder='Summary will appear here',\n",
        "    description='Output:',\n",
        "    layout=Layout(width='100%', height='100px')\n",
        ")\n",
        "\n",
        "# Define button click event\n",
        "def on_button_click(b):\n",
        "    text = text_input.value\n",
        "    num_sentences = num_sentences_input.value\n",
        "    summary = summarize_text(text, num_sentences)\n",
        "    output.value = summary\n",
        "\n",
        "summarize_button.on_click(on_button_click)\n",
        "\n",
        "# Display widgets\n",
        "display(text_input, num_sentences_input, summarize_button, output)"
      ]
    }
  ]
}