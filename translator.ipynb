{
  "nbformat": 4,
  "nbformat_minor": 0,
  "metadata": {
    "colab": {
      "provenance": [],
      "authorship_tag": "ABX9TyND62jP0HxwylP3xUXKgsCe",
      "include_colab_link": true
    },
    "kernelspec": {
      "name": "python3",
      "display_name": "Python 3"
    },
    "language_info": {
      "name": "python"
    }
  },
  "cells": [
    {
      "cell_type": "markdown",
      "metadata": {
        "id": "view-in-github",
        "colab_type": "text"
      },
      "source": [
        "<a href=\"https://colab.research.google.com/github/snakeyballs/NLP-with-Transformers/blob/main/translator.ipynb\" target=\"_parent\"><img src=\"https://colab.research.google.com/assets/colab-badge.svg\" alt=\"Open In Colab\"/></a>"
      ]
    },
    {
      "cell_type": "code",
      "execution_count": 10,
      "metadata": {
        "colab": {
          "base_uri": "https://localhost:8080/"
        },
        "id": "ee_lUIEcBil1",
        "outputId": "05f74183-1789-4c3b-8931-3f7f7fb42f8b"
      },
      "outputs": [
        {
          "output_type": "stream",
          "name": "stdout",
          "text": [
            "Mon nom est XYZ\n",
            "Hallo, wie geht es Ihnen?\n"
          ]
        }
      ],
      "source": [
        "from transformers import MarianMTModel, MarianTokenizer\n",
        "\n",
        "class MultilingualTranslator:\n",
        "    def __init__(self):\n",
        "        self.models = {}\n",
        "        self.tokenizers = {}\n",
        "\n",
        "    def load_model(self, src_lang, tgt_lang):\n",
        "        model_name = f'Helsinki-NLP/opus-mt-{src_lang}-{tgt_lang}'\n",
        "        self.models[(src_lang, tgt_lang)] = MarianMTModel.from_pretrained(model_name)\n",
        "        self.tokenizers[(src_lang, tgt_lang)] = MarianTokenizer.from_pretrained(model_name)\n",
        "\n",
        "    def translate(self, text, src_lang, tgt_lang):\n",
        "        if (src_lang, tgt_lang) not in self.models:\n",
        "            self.load_model(src_lang, tgt_lang)\n",
        "\n",
        "        model = self.models[(src_lang, tgt_lang)]\n",
        "        tokenizer = self.tokenizers[(src_lang, tgt_lang)]\n",
        "\n",
        "        inputs = tokenizer(text, return_tensors=\"pt\", padding=True)\n",
        "        translated = model.generate(**inputs)\n",
        "        return tokenizer.decode(translated[0], skip_special_tokens=True)\n",
        "\n",
        "# Usage\n",
        "translator = MultilingualTranslator()\n",
        "print(translator.translate(\"My name is XYZ\", \"en\", \"fr\"))\n",
        "print(translator.translate(\"Bonjour, comment allez-vous?\", \"fr\", \"de\"))\n",
        "\n"
      ]
    }
  ]
}